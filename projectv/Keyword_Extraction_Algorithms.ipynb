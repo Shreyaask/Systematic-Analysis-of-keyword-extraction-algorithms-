{
  "nbformat": 4,
  "nbformat_minor": 5,
  "metadata": {
    "kernelspec": {
      "display_name": "Python 3",
      "language": "python",
      "name": "python3"
    },
    "language_info": {
      "codemirror_mode": {
        "name": "ipython",
        "version": 3
      },
      "file_extension": ".py",
      "mimetype": "text/x-python",
      "name": "python",
      "nbconvert_exporter": "python",
      "pygments_lexer": "ipython3",
      "version": "3.8.1"
    },
    "colab": {
      "name": "Keyword Extraction Algorithms.ipynb",
      "provenance": [],
      "collapsed_sections": []
    }
  },
  "cells": [
    {
      "cell_type": "markdown",
      "metadata": {
        "id": "XWXsdCHSEQav"
      },
      "source": [
        "1) Web scraping of a sample blog website using beautifulsoup package in Python. The contents fetched from this website are appended to a list and further processed for keyword extraction. "
      ],
      "id": "XWXsdCHSEQav"
    },
    {
      "cell_type": "code",
      "metadata": {
        "id": "awful-dynamics",
        "colab": {
          "base_uri": "https://localhost:8080/"
        },
        "outputId": "ec3d7db1-3643-4522-c24a-ccf2c07491a4"
      },
      "source": [
        "# importing the libraries\n",
        "from bs4 import BeautifulSoup\n",
        "import requests\n",
        "url=\"https://www.thedishdaily.com/tony-lopez/\"\n",
        "\n",
        "# Make a GET request to fetch the raw HTML content\n",
        "html_content = requests.get(url,verify=False).text\n",
        "\n",
        "# Parse the html content\n",
        "soup = BeautifulSoup(html_content, \"lxml\")\n",
        "lst=[]\n",
        "for k in soup.find_all(\"body\"): \n",
        "    b=k.text\n",
        "    lst.append(b)\n",
        "print(lst)\n"
      ],
      "id": "awful-dynamics",
      "execution_count": null,
      "outputs": [
        {
          "output_type": "stream",
          "name": "stderr",
          "text": [
            "/usr/local/lib/python3.7/dist-packages/urllib3/connectionpool.py:847: InsecureRequestWarning: Unverified HTTPS request is being made. Adding certificate verification is strongly advised. See: https://urllib3.readthedocs.io/en/latest/advanced-usage.html#ssl-warnings\n",
            "  InsecureRequestWarning)\n"
          ]
        },
        {
          "output_type": "stream",
          "name": "stdout",
          "text": [
            "['\\nSkip to content \\n\\n\\n\\n\\n\\n \\n\\n\\n\\n\\nMenu \\n\\n\\n\\n\\n\\n\\n\\n\\n \\n\\n\\n\\n\\nMenu \\n\\n\\n\\nTony Lopez TikTok Star Under Fire After Allegations Of Sending Inappropriate Pictures\\n\\nThe Dish Daily\\n•\\nJuly 2, 2021\\n\\n\\n\\n\\n\\n\\n\\n\\n\\n\\n\\n\\nTony Lopez Biography\\nAmerican TikTok Star, who is also a member of the Lopez Brothers along with his brother Ondreaz Lopez. His tonylopez TikTok page has more than 22 million followers. Ondreaz and he run the YouTube channel Lopez Brothers, where they post challenges and dance videos.\\nTony Lopez, TikTok’s star, has recently come under fire for sending explicit messages to a girl aged 15 years old. These allegations are coming less than one year after Lopez made headlines with nude photos of himself that were allegedly leaked to fans on Twitter.\\nTony Lopez Recent News\\nAccording to The TikTok Shaderoom, Tony used Snapchat and Instagram direct messages to communicate with minors. “I guess it never clicked into his head that I wasn’t 20 years old,” the victim said, commenting on screenshots of Snapchat messages that were allegedly sent to him by a Hype House member. “But you can see, he kept saying s–t knowing I wasn’t old. Predators don’t care!”\\nTony has not yet publicly addressed the allegations against him. He tweeted on Aug. 8: “I have a lot of things to talk about.” He added, “I love and support you guys keep happy.”\\nThis isn’t the only controversy Tony has been involved with.\\nTony Lopez was accused of taking another TikToker’s dance.\\nAccording to TikTok, Gen Z seems to have one goal: To go viral on TikTok. Social media stars are now the latest A-list celebrities. It is illegal for content creators to try to steal material from other people.\\nTony was accused of taking @ouuitzjaidaa’s dance, without crediting her. These accusations, while not as serious as sending sexual messages directly to minors, are damaging to Tony’s credibility and reputation as a content creator.\\nJaida uploaded a video on June 14 of her dancing to Nicki Minaj and rapper 6ix9ine’s “Trollz” in a competition.\\n“Whoever has the most views on TikTok, I will wire $10,000. Second place: $5,000 The rapper also announced that the third-place winner would receive $1,000.\\nJaida expressed her desire to donate the prize money to a friend’s family who had recently lost a member of their family.\\nJaida called Tony three days later after he posted a clip of him dancing to the same song. She commented, “NOT YOU COPIECING MY DANCE.”\\nSome people noticed similarities between the two dances after the videos were posted side-by-side by The TikTok Shaderoom. Tony replied in a tweet that has since been deleted from the platform, “Imagine believing I stole your dance.”\\nDespite the fact that there was an internet squabble, many commented on the issue and said that the moves were not the same. Others criticized the creator of the content for creating drama.\\nJaida doesn’t care about who does her dancing, she just wants credit. We totally get that.\\n\\n\\n\\n\\nCategories Uncategorized \\nPost navigation\\n\\n\\n40 Reasons Why You Should Keep A Jar Of Vicks VapoRub At Home \\n\\n\\n\\n\\n\\n\\n\\n\\n\\nSearch for:\\n\\n\\n\\n\\n\\nDaily Good News.wp-show-posts-columns#wpsp-141 {margin-left: -2em; }.wp-show-posts-columns#wpsp-141 .wp-show-posts-inner {margin: 0 0 2em 2em; } \\n \\n\\n40 Reasons Why You Should Keep A Jar Of Vicks VapoRub At Home \\nCategories\\n\\nUncategorized\\n\\n\\n \\n\\n\\n\\n\\n\\n\\n\\n\\t\\t\\t\\t\\t© 2021 Thanks For Visiting The Dish Daily \\n\\n\\n\\n\\n\\n\\n\\n\\n\\n Close \\n\\n\\n\\n\\nvar offSide = {\"side\":\"right\"};\\n\\n\\n\\n\\nvar generatepressMenu = {\"toggleOpenedSubMenus\":\"1\",\"openSubMenuLabel\":\"Open Sub-Menu\",\"closeSubMenuLabel\":\"Close Sub-Menu\"};\\n\\n\\n\\n']\n"
          ]
        }
      ]
    },
    {
      "cell_type": "markdown",
      "metadata": {
        "id": "_GyDHdbLD_jc"
      },
      "source": [
        "2) Parsing through the list lst and then using the package re, we used split function to remove '\\n'"
      ],
      "id": "_GyDHdbLD_jc"
    },
    {
      "cell_type": "code",
      "metadata": {
        "id": "reflected-arlington",
        "colab": {
          "base_uri": "https://localhost:8080/"
        },
        "outputId": "9fd09eed-99b7-4110-90ad-d102cca7cece"
      },
      "source": [
        "import re \n",
        "sentences = list()\n",
        "for line in lst:\n",
        "    for l in re.split(r\"\\.\\s|\\?\\s|\\!\\s|\\n\",line):\n",
        "            if l:\n",
        "                sentences.append(l)\n",
        "print(sentences)"
      ],
      "id": "reflected-arlington",
      "execution_count": null,
      "outputs": [
        {
          "output_type": "stream",
          "name": "stdout",
          "text": [
            "['Skip to content ', ' ', 'Menu ', ' ', 'Menu ', 'Tony Lopez TikTok Star Under Fire After Allegations Of Sending Inappropriate Pictures', 'The Dish Daily', '•', 'July 2, 2021', 'Tony Lopez Biography', 'American TikTok Star, who is also a member of the Lopez Brothers along with his brother Ondreaz Lopez', 'His tonylopez TikTok page has more than 22 million followers', 'Ondreaz and he run the YouTube channel Lopez Brothers, where they post challenges and dance videos', 'Tony Lopez, TikTok’s star, has recently come under fire for sending explicit messages to a girl aged 15 years old', 'These allegations are coming less than one year after Lopez made headlines with nude photos of himself that were allegedly leaked to fans on Twitter', 'Tony Lopez Recent News', 'According to The TikTok Shaderoom, Tony used Snapchat and Instagram direct messages to communicate with minors', '“I guess it never clicked into his head that I wasn’t 20 years old,” the victim said, commenting on screenshots of Snapchat messages that were allegedly sent to him by a Hype House member', '“But you can see, he kept saying s–t knowing I wasn’t old', 'Predators don’t care!”', 'Tony has not yet publicly addressed the allegations against him', 'He tweeted on Aug', '8: “I have a lot of things to talk about.” He added, “I love and support you guys keep happy.”', 'This isn’t the only controversy Tony has been involved with', 'Tony Lopez was accused of taking another TikToker’s dance', 'According to TikTok, Gen Z seems to have one goal: To go viral on TikTok', 'Social media stars are now the latest A-list celebrities', 'It is illegal for content creators to try to steal material from other people', 'Tony was accused of taking @ouuitzjaidaa’s dance, without crediting her', 'These accusations, while not as serious as sending sexual messages directly to minors, are damaging to Tony’s credibility and reputation as a content creator', 'Jaida uploaded a video on June 14 of her dancing to Nicki Minaj and rapper 6ix9ine’s “Trollz” in a competition', '“Whoever has the most views on TikTok, I will wire $10,000', 'Second place: $5,000 The rapper also announced that the third-place winner would receive $1,000', 'Jaida expressed her desire to donate the prize money to a friend’s family who had recently lost a member of their family', 'Jaida called Tony three days later after he posted a clip of him dancing to the same song', 'She commented, “NOT YOU COPIECING MY DANCE.”', 'Some people noticed similarities between the two dances after the videos were posted side-by-side by The TikTok Shaderoom', 'Tony replied in a tweet that has since been deleted from the platform, “Imagine believing I stole your dance.”', 'Despite the fact that there was an internet squabble, many commented on the issue and said that the moves were not the same', 'Others criticized the creator of the content for creating drama', 'Jaida doesn’t care about who does her dancing, she just wants credit', 'We totally get that', 'Categories Uncategorized ', 'Post navigation', '40 Reasons Why You Should Keep A Jar Of Vicks VapoRub At Home ', 'Search for:', 'Daily Good News.wp-show-posts-columns#wpsp-141 {margin-left: -2em; }.wp-show-posts-columns#wpsp-141 .wp-show-posts-inner {margin: 0 0 2em 2em; } ', ' ', '40 Reasons Why You Should Keep A Jar Of Vicks VapoRub At Home ', 'Categories', 'Uncategorized', ' ', '\\t\\t\\t\\t\\t© 2021 Thanks For Visiting The Dish Daily ', ' Close ', 'var offSide = {\"side\":\"right\"};', 'var generatepressMenu = {\"toggleOpenedSubMenus\":\"1\",\"openSubMenuLabel\":\"Open Sub-Menu\",\"closeSubMenuLabel\":\"Close Sub-Menu\"};']\n"
          ]
        }
      ]
    },
    {
      "cell_type": "code",
      "metadata": {
        "id": "confused-wheel",
        "colab": {
          "base_uri": "https://localhost:8080/"
        },
        "outputId": "cca7ce75-3955-4dba-bfd6-7d9c99843937"
      },
      "source": [
        "import pandas as pd\n",
        "df1=pd.DataFrame(sentences,columns=['words'])\n",
        "print(df1)"
      ],
      "id": "confused-wheel",
      "execution_count": null,
      "outputs": [
        {
          "output_type": "stream",
          "name": "stdout",
          "text": [
            "                                                words\n",
            "0                                    Skip to content \n",
            "1                                                    \n",
            "2                                               Menu \n",
            "3                                                    \n",
            "4                                               Menu \n",
            "5   Tony Lopez TikTok Star Under Fire After Allega...\n",
            "6                                      The Dish Daily\n",
            "7                                                   •\n",
            "8                                        July 2, 2021\n",
            "9                                Tony Lopez Biography\n",
            "10  American TikTok Star, who is also a member of ...\n",
            "11  His tonylopez TikTok page has more than 22 mil...\n",
            "12  Ondreaz and he run the YouTube channel Lopez B...\n",
            "13  Tony Lopez, TikTok’s star, has recently come u...\n",
            "14  These allegations are coming less than one yea...\n",
            "15                             Tony Lopez Recent News\n",
            "16  According to The TikTok Shaderoom, Tony used S...\n",
            "17  “I guess it never clicked into his head that I...\n",
            "18  “But you can see, he kept saying s–t knowing I...\n",
            "19                             Predators don’t care!”\n",
            "20  Tony has not yet publicly addressed the allega...\n",
            "21                                  He tweeted on Aug\n",
            "22  8: “I have a lot of things to talk about.” He ...\n",
            "23  This isn’t the only controversy Tony has been ...\n",
            "24  Tony Lopez was accused of taking another TikTo...\n",
            "25  According to TikTok, Gen Z seems to have one g...\n",
            "26  Social media stars are now the latest A-list c...\n",
            "27  It is illegal for content creators to try to s...\n",
            "28  Tony was accused of taking @ouuitzjaidaa’s dan...\n",
            "29  These accusations, while not as serious as sen...\n",
            "30  Jaida uploaded a video on June 14 of her danci...\n",
            "31  “Whoever has the most views on TikTok, I will ...\n",
            "32  Second place: $5,000 The rapper also announced...\n",
            "33  Jaida expressed her desire to donate the prize...\n",
            "34  Jaida called Tony three days later after he po...\n",
            "35       She commented, “NOT YOU COPIECING MY DANCE.”\n",
            "36  Some people noticed similarities between the t...\n",
            "37  Tony replied in a tweet that has since been de...\n",
            "38  Despite the fact that there was an internet sq...\n",
            "39  Others criticized the creator of the content f...\n",
            "40  Jaida doesn’t care about who does her dancing,...\n",
            "41                                We totally get that\n",
            "42                          Categories Uncategorized \n",
            "43                                    Post navigation\n",
            "44  40 Reasons Why You Should Keep A Jar Of Vicks ...\n",
            "45                                        Search for:\n",
            "46  Daily Good News.wp-show-posts-columns#wpsp-141...\n",
            "47                                                   \n",
            "48  40 Reasons Why You Should Keep A Jar Of Vicks ...\n",
            "49                                         Categories\n",
            "50                                      Uncategorized\n",
            "51                                                   \n",
            "52  \\t\\t\\t\\t\\t© 2021 Thanks For Visiting The Dish ...\n",
            "53                                             Close \n",
            "54                    var offSide = {\"side\":\"right\"};\n",
            "55  var generatepressMenu = {\"toggleOpenedSubMenus...\n"
          ]
        }
      ]
    },
    {
      "cell_type": "code",
      "metadata": {
        "id": "formed-journalism",
        "colab": {
          "base_uri": "https://localhost:8080/",
          "height": 1000
        },
        "outputId": "c8e025cb-d737-4c6f-f231-a517e722e715"
      },
      "source": [
        "df1['word_count'] = df1['words'].apply(lambda x: len(str(x).split(\" \")))\n",
        "df1[['words','word_count']]"
      ],
      "id": "formed-journalism",
      "execution_count": null,
      "outputs": [
        {
          "output_type": "execute_result",
          "data": {
            "text/html": [
              "<div>\n",
              "<style scoped>\n",
              "    .dataframe tbody tr th:only-of-type {\n",
              "        vertical-align: middle;\n",
              "    }\n",
              "\n",
              "    .dataframe tbody tr th {\n",
              "        vertical-align: top;\n",
              "    }\n",
              "\n",
              "    .dataframe thead th {\n",
              "        text-align: right;\n",
              "    }\n",
              "</style>\n",
              "<table border=\"1\" class=\"dataframe\">\n",
              "  <thead>\n",
              "    <tr style=\"text-align: right;\">\n",
              "      <th></th>\n",
              "      <th>words</th>\n",
              "      <th>word_count</th>\n",
              "    </tr>\n",
              "  </thead>\n",
              "  <tbody>\n",
              "    <tr>\n",
              "      <th>0</th>\n",
              "      <td>Skip to content</td>\n",
              "      <td>4</td>\n",
              "    </tr>\n",
              "    <tr>\n",
              "      <th>1</th>\n",
              "      <td></td>\n",
              "      <td>2</td>\n",
              "    </tr>\n",
              "    <tr>\n",
              "      <th>2</th>\n",
              "      <td>Menu</td>\n",
              "      <td>2</td>\n",
              "    </tr>\n",
              "    <tr>\n",
              "      <th>3</th>\n",
              "      <td></td>\n",
              "      <td>2</td>\n",
              "    </tr>\n",
              "    <tr>\n",
              "      <th>4</th>\n",
              "      <td>Menu</td>\n",
              "      <td>2</td>\n",
              "    </tr>\n",
              "    <tr>\n",
              "      <th>5</th>\n",
              "      <td>Tony Lopez TikTok Star Under Fire After Allega...</td>\n",
              "      <td>12</td>\n",
              "    </tr>\n",
              "    <tr>\n",
              "      <th>6</th>\n",
              "      <td>The Dish Daily</td>\n",
              "      <td>3</td>\n",
              "    </tr>\n",
              "    <tr>\n",
              "      <th>7</th>\n",
              "      <td>•</td>\n",
              "      <td>1</td>\n",
              "    </tr>\n",
              "    <tr>\n",
              "      <th>8</th>\n",
              "      <td>July 2, 2021</td>\n",
              "      <td>3</td>\n",
              "    </tr>\n",
              "    <tr>\n",
              "      <th>9</th>\n",
              "      <td>Tony Lopez Biography</td>\n",
              "      <td>3</td>\n",
              "    </tr>\n",
              "    <tr>\n",
              "      <th>10</th>\n",
              "      <td>American TikTok Star, who is also a member of ...</td>\n",
              "      <td>18</td>\n",
              "    </tr>\n",
              "    <tr>\n",
              "      <th>11</th>\n",
              "      <td>His tonylopez TikTok page has more than 22 mil...</td>\n",
              "      <td>10</td>\n",
              "    </tr>\n",
              "    <tr>\n",
              "      <th>12</th>\n",
              "      <td>Ondreaz and he run the YouTube channel Lopez B...</td>\n",
              "      <td>16</td>\n",
              "    </tr>\n",
              "    <tr>\n",
              "      <th>13</th>\n",
              "      <td>Tony Lopez, TikTok’s star, has recently come u...</td>\n",
              "      <td>20</td>\n",
              "    </tr>\n",
              "    <tr>\n",
              "      <th>14</th>\n",
              "      <td>These allegations are coming less than one yea...</td>\n",
              "      <td>25</td>\n",
              "    </tr>\n",
              "    <tr>\n",
              "      <th>15</th>\n",
              "      <td>Tony Lopez Recent News</td>\n",
              "      <td>4</td>\n",
              "    </tr>\n",
              "    <tr>\n",
              "      <th>16</th>\n",
              "      <td>According to The TikTok Shaderoom, Tony used S...</td>\n",
              "      <td>16</td>\n",
              "    </tr>\n",
              "    <tr>\n",
              "      <th>17</th>\n",
              "      <td>“I guess it never clicked into his head that I...</td>\n",
              "      <td>34</td>\n",
              "    </tr>\n",
              "    <tr>\n",
              "      <th>18</th>\n",
              "      <td>“But you can see, he kept saying s–t knowing I...</td>\n",
              "      <td>12</td>\n",
              "    </tr>\n",
              "    <tr>\n",
              "      <th>19</th>\n",
              "      <td>Predators don’t care!”</td>\n",
              "      <td>3</td>\n",
              "    </tr>\n",
              "    <tr>\n",
              "      <th>20</th>\n",
              "      <td>Tony has not yet publicly addressed the allega...</td>\n",
              "      <td>10</td>\n",
              "    </tr>\n",
              "    <tr>\n",
              "      <th>21</th>\n",
              "      <td>He tweeted on Aug</td>\n",
              "      <td>4</td>\n",
              "    </tr>\n",
              "    <tr>\n",
              "      <th>22</th>\n",
              "      <td>8: “I have a lot of things to talk about.” He ...</td>\n",
              "      <td>20</td>\n",
              "    </tr>\n",
              "    <tr>\n",
              "      <th>23</th>\n",
              "      <td>This isn’t the only controversy Tony has been ...</td>\n",
              "      <td>10</td>\n",
              "    </tr>\n",
              "    <tr>\n",
              "      <th>24</th>\n",
              "      <td>Tony Lopez was accused of taking another TikTo...</td>\n",
              "      <td>9</td>\n",
              "    </tr>\n",
              "    <tr>\n",
              "      <th>25</th>\n",
              "      <td>According to TikTok, Gen Z seems to have one g...</td>\n",
              "      <td>15</td>\n",
              "    </tr>\n",
              "    <tr>\n",
              "      <th>26</th>\n",
              "      <td>Social media stars are now the latest A-list c...</td>\n",
              "      <td>9</td>\n",
              "    </tr>\n",
              "    <tr>\n",
              "      <th>27</th>\n",
              "      <td>It is illegal for content creators to try to s...</td>\n",
              "      <td>14</td>\n",
              "    </tr>\n",
              "    <tr>\n",
              "      <th>28</th>\n",
              "      <td>Tony was accused of taking @ouuitzjaidaa’s dan...</td>\n",
              "      <td>10</td>\n",
              "    </tr>\n",
              "    <tr>\n",
              "      <th>29</th>\n",
              "      <td>These accusations, while not as serious as sen...</td>\n",
              "      <td>24</td>\n",
              "    </tr>\n",
              "    <tr>\n",
              "      <th>30</th>\n",
              "      <td>Jaida uploaded a video on June 14 of her danci...</td>\n",
              "      <td>20</td>\n",
              "    </tr>\n",
              "    <tr>\n",
              "      <th>31</th>\n",
              "      <td>“Whoever has the most views on TikTok, I will ...</td>\n",
              "      <td>11</td>\n",
              "    </tr>\n",
              "    <tr>\n",
              "      <th>32</th>\n",
              "      <td>Second place: $5,000 The rapper also announced...</td>\n",
              "      <td>14</td>\n",
              "    </tr>\n",
              "    <tr>\n",
              "      <th>33</th>\n",
              "      <td>Jaida expressed her desire to donate the prize...</td>\n",
              "      <td>22</td>\n",
              "    </tr>\n",
              "    <tr>\n",
              "      <th>34</th>\n",
              "      <td>Jaida called Tony three days later after he po...</td>\n",
              "      <td>18</td>\n",
              "    </tr>\n",
              "    <tr>\n",
              "      <th>35</th>\n",
              "      <td>She commented, “NOT YOU COPIECING MY DANCE.”</td>\n",
              "      <td>7</td>\n",
              "    </tr>\n",
              "    <tr>\n",
              "      <th>36</th>\n",
              "      <td>Some people noticed similarities between the t...</td>\n",
              "      <td>18</td>\n",
              "    </tr>\n",
              "    <tr>\n",
              "      <th>37</th>\n",
              "      <td>Tony replied in a tweet that has since been de...</td>\n",
              "      <td>19</td>\n",
              "    </tr>\n",
              "    <tr>\n",
              "      <th>38</th>\n",
              "      <td>Despite the fact that there was an internet sq...</td>\n",
              "      <td>23</td>\n",
              "    </tr>\n",
              "    <tr>\n",
              "      <th>39</th>\n",
              "      <td>Others criticized the creator of the content f...</td>\n",
              "      <td>10</td>\n",
              "    </tr>\n",
              "    <tr>\n",
              "      <th>40</th>\n",
              "      <td>Jaida doesn’t care about who does her dancing,...</td>\n",
              "      <td>12</td>\n",
              "    </tr>\n",
              "    <tr>\n",
              "      <th>41</th>\n",
              "      <td>We totally get that</td>\n",
              "      <td>4</td>\n",
              "    </tr>\n",
              "    <tr>\n",
              "      <th>42</th>\n",
              "      <td>Categories Uncategorized</td>\n",
              "      <td>3</td>\n",
              "    </tr>\n",
              "    <tr>\n",
              "      <th>43</th>\n",
              "      <td>Post navigation</td>\n",
              "      <td>2</td>\n",
              "    </tr>\n",
              "    <tr>\n",
              "      <th>44</th>\n",
              "      <td>40 Reasons Why You Should Keep A Jar Of Vicks ...</td>\n",
              "      <td>14</td>\n",
              "    </tr>\n",
              "    <tr>\n",
              "      <th>45</th>\n",
              "      <td>Search for:</td>\n",
              "      <td>2</td>\n",
              "    </tr>\n",
              "    <tr>\n",
              "      <th>46</th>\n",
              "      <td>Daily Good News.wp-show-posts-columns#wpsp-141...</td>\n",
              "      <td>14</td>\n",
              "    </tr>\n",
              "    <tr>\n",
              "      <th>47</th>\n",
              "      <td></td>\n",
              "      <td>2</td>\n",
              "    </tr>\n",
              "    <tr>\n",
              "      <th>48</th>\n",
              "      <td>40 Reasons Why You Should Keep A Jar Of Vicks ...</td>\n",
              "      <td>14</td>\n",
              "    </tr>\n",
              "    <tr>\n",
              "      <th>49</th>\n",
              "      <td>Categories</td>\n",
              "      <td>1</td>\n",
              "    </tr>\n",
              "    <tr>\n",
              "      <th>50</th>\n",
              "      <td>Uncategorized</td>\n",
              "      <td>1</td>\n",
              "    </tr>\n",
              "    <tr>\n",
              "      <th>51</th>\n",
              "      <td></td>\n",
              "      <td>2</td>\n",
              "    </tr>\n",
              "    <tr>\n",
              "      <th>52</th>\n",
              "      <td>\\t\\t\\t\\t\\t© 2021 Thanks For Visiting The Dish ...</td>\n",
              "      <td>9</td>\n",
              "    </tr>\n",
              "    <tr>\n",
              "      <th>53</th>\n",
              "      <td>Close</td>\n",
              "      <td>3</td>\n",
              "    </tr>\n",
              "    <tr>\n",
              "      <th>54</th>\n",
              "      <td>var offSide = {\"side\":\"right\"};</td>\n",
              "      <td>4</td>\n",
              "    </tr>\n",
              "    <tr>\n",
              "      <th>55</th>\n",
              "      <td>var generatepressMenu = {\"toggleOpenedSubMenus...</td>\n",
              "      <td>6</td>\n",
              "    </tr>\n",
              "  </tbody>\n",
              "</table>\n",
              "</div>"
            ],
            "text/plain": [
              "                                                words  word_count\n",
              "0                                    Skip to content            4\n",
              "1                                                               2\n",
              "2                                               Menu            2\n",
              "3                                                               2\n",
              "4                                               Menu            2\n",
              "5   Tony Lopez TikTok Star Under Fire After Allega...          12\n",
              "6                                      The Dish Daily           3\n",
              "7                                                   •           1\n",
              "8                                        July 2, 2021           3\n",
              "9                                Tony Lopez Biography           3\n",
              "10  American TikTok Star, who is also a member of ...          18\n",
              "11  His tonylopez TikTok page has more than 22 mil...          10\n",
              "12  Ondreaz and he run the YouTube channel Lopez B...          16\n",
              "13  Tony Lopez, TikTok’s star, has recently come u...          20\n",
              "14  These allegations are coming less than one yea...          25\n",
              "15                             Tony Lopez Recent News           4\n",
              "16  According to The TikTok Shaderoom, Tony used S...          16\n",
              "17  “I guess it never clicked into his head that I...          34\n",
              "18  “But you can see, he kept saying s–t knowing I...          12\n",
              "19                             Predators don’t care!”           3\n",
              "20  Tony has not yet publicly addressed the allega...          10\n",
              "21                                  He tweeted on Aug           4\n",
              "22  8: “I have a lot of things to talk about.” He ...          20\n",
              "23  This isn’t the only controversy Tony has been ...          10\n",
              "24  Tony Lopez was accused of taking another TikTo...           9\n",
              "25  According to TikTok, Gen Z seems to have one g...          15\n",
              "26  Social media stars are now the latest A-list c...           9\n",
              "27  It is illegal for content creators to try to s...          14\n",
              "28  Tony was accused of taking @ouuitzjaidaa’s dan...          10\n",
              "29  These accusations, while not as serious as sen...          24\n",
              "30  Jaida uploaded a video on June 14 of her danci...          20\n",
              "31  “Whoever has the most views on TikTok, I will ...          11\n",
              "32  Second place: $5,000 The rapper also announced...          14\n",
              "33  Jaida expressed her desire to donate the prize...          22\n",
              "34  Jaida called Tony three days later after he po...          18\n",
              "35       She commented, “NOT YOU COPIECING MY DANCE.”           7\n",
              "36  Some people noticed similarities between the t...          18\n",
              "37  Tony replied in a tweet that has since been de...          19\n",
              "38  Despite the fact that there was an internet sq...          23\n",
              "39  Others criticized the creator of the content f...          10\n",
              "40  Jaida doesn’t care about who does her dancing,...          12\n",
              "41                                We totally get that           4\n",
              "42                          Categories Uncategorized            3\n",
              "43                                    Post navigation           2\n",
              "44  40 Reasons Why You Should Keep A Jar Of Vicks ...          14\n",
              "45                                        Search for:           2\n",
              "46  Daily Good News.wp-show-posts-columns#wpsp-141...          14\n",
              "47                                                              2\n",
              "48  40 Reasons Why You Should Keep A Jar Of Vicks ...          14\n",
              "49                                         Categories           1\n",
              "50                                      Uncategorized           1\n",
              "51                                                              2\n",
              "52  \\t\\t\\t\\t\\t© 2021 Thanks For Visiting The Dish ...           9\n",
              "53                                             Close            3\n",
              "54                    var offSide = {\"side\":\"right\"};           4\n",
              "55  var generatepressMenu = {\"toggleOpenedSubMenus...           6"
            ]
          },
          "metadata": {},
          "execution_count": 6
        }
      ]
    },
    {
      "cell_type": "code",
      "metadata": {
        "id": "dress-fabric",
        "colab": {
          "base_uri": "https://localhost:8080/"
        },
        "outputId": "cefbf287-df20-4d04-adc8-98ce7c3e5b21"
      },
      "source": [
        "df1.word_count.describe()"
      ],
      "id": "dress-fabric",
      "execution_count": null,
      "outputs": [
        {
          "output_type": "execute_result",
          "data": {
            "text/plain": [
              "count    56.000000\n",
              "mean     10.214286\n",
              "std       7.778091\n",
              "min       1.000000\n",
              "25%       3.000000\n",
              "50%      10.000000\n",
              "75%      15.250000\n",
              "max      34.000000\n",
              "Name: word_count, dtype: float64"
            ]
          },
          "metadata": {},
          "execution_count": 7
        }
      ]
    },
    {
      "cell_type": "code",
      "metadata": {
        "id": "settled-thumbnail",
        "colab": {
          "base_uri": "https://localhost:8080/"
        },
        "outputId": "6a2f4c12-23bd-40b2-a5d3-c9a694197351"
      },
      "source": [
        "#Identify common words\n",
        "import pandas \n",
        "freq = pandas.Series(' '.join(df1['words']).split()).value_counts()[:50]\n",
        "freq"
      ],
      "id": "settled-thumbnail",
      "execution_count": null,
      "outputs": [
        {
          "output_type": "execute_result",
          "data": {
            "text/plain": [
              "the         19\n",
              "to          17\n",
              "a           11\n",
              "Tony        11\n",
              "of          10\n",
              "Lopez        8\n",
              "that         8\n",
              "on           7\n",
              "and          7\n",
              "TikTok       6\n",
              "has          6\n",
              "The          5\n",
              "with         4\n",
              "Jaida        4\n",
              "messages     4\n",
              "I            4\n",
              "were         4\n",
              "her          4\n",
              "content      4\n",
              "was          3\n",
              "member       3\n",
              "as           3\n",
              "he           3\n",
              "not          3\n",
              "after        3\n",
              "are          3\n",
              "for          3\n",
              "Daily        3\n",
              "“I           3\n",
              "him          3\n",
              "Of           3\n",
              "who          3\n",
              "in           2\n",
              "Should       2\n",
              "taking       2\n",
              "Why          2\n",
              "family       2\n",
              "from         2\n",
              "Keep         2\n",
              "2021         2\n",
              "TikTok,      2\n",
              "0            2\n",
              "sending      2\n",
              "var          2\n",
              "people       2\n",
              "one          2\n",
              "old          2\n",
              "been         2\n",
              "years        2\n",
              "you          2\n",
              "dtype: int64"
            ]
          },
          "metadata": {},
          "execution_count": 8
        }
      ]
    },
    {
      "cell_type": "code",
      "metadata": {
        "id": "proper-organ",
        "colab": {
          "base_uri": "https://localhost:8080/"
        },
        "outputId": "0106dc8c-74f6-4691-9212-5a4ca7b12716"
      },
      "source": [
        "#Identify uncommon words\n",
        "freqofun =  pandas.Series(' '.join(df1['words']).split()).value_counts()[-20:]\n",
        "freqofun"
      ],
      "id": "proper-organ",
      "execution_count": null,
      "outputs": [
        {
          "output_type": "execute_result",
          "data": {
            "text/plain": [
              "directly             1\n",
              "try                  1\n",
              "Star,                1\n",
              "stars                1\n",
              "His                  1\n",
              "stole                1\n",
              "would                1\n",
              "©                    1\n",
              "while                1\n",
              "2em                  1\n",
              "channel              1\n",
              "money                1\n",
              "commented,           1\n",
              "yet                  1\n",
              "announced            1\n",
              "care                 1\n",
              "Allegations          1\n",
              "lot                  1\n",
              "nude                 1\n",
              "generatepressMenu    1\n",
              "dtype: int64"
            ]
          },
          "metadata": {},
          "execution_count": 9
        }
      ]
    },
    {
      "cell_type": "code",
      "metadata": {
        "id": "satisfactory-motorcycle",
        "colab": {
          "base_uri": "https://localhost:8080/"
        },
        "outputId": "a42d3e84-709e-42ee-8cb9-52e002eb777c"
      },
      "source": [
        "# Libraries for text preprocessing\n",
        "import re\n",
        "import nltk\n",
        "nltk.download('stopwords')\n",
        "from nltk.corpus import stopwords\n",
        "from nltk.stem.porter import PorterStemmer\n",
        "from nltk.tokenize import RegexpTokenizer\n",
        "nltk.download('wordnet') \n",
        "from nltk.stem.wordnet import WordNetLemmatizer"
      ],
      "id": "satisfactory-motorcycle",
      "execution_count": null,
      "outputs": [
        {
          "output_type": "stream",
          "name": "stdout",
          "text": [
            "[nltk_data] Downloading package stopwords to /root/nltk_data...\n",
            "[nltk_data]   Unzipping corpora/stopwords.zip.\n",
            "[nltk_data] Downloading package wordnet to /root/nltk_data...\n",
            "[nltk_data]   Unzipping corpora/wordnet.zip.\n"
          ]
        }
      ]
    },
    {
      "cell_type": "code",
      "metadata": {
        "id": "incorporated-reliance"
      },
      "source": [
        "## Creating a list of stop words and adding custom stopwords\n",
        "stop_words = set(stopwords.words(\"english\"))"
      ],
      "id": "incorporated-reliance",
      "execution_count": null,
      "outputs": []
    },
    {
      "cell_type": "code",
      "metadata": {
        "id": "later-shaft",
        "colab": {
          "base_uri": "https://localhost:8080/"
        },
        "outputId": "30f81a34-d09f-4e09-ee77-72d41276a013"
      },
      "source": [
        "corpus = []\n",
        "m=0\n",
        "n=len(df1.index)\n",
        "print(n)\n",
        "for i in range(m,n):\n",
        "    #Remove punctuations\n",
        "    text = re.sub('[^a-zA-Z]', ' ', df1['words'][i])\n",
        "    \n",
        "    #Convert to lowercase\n",
        "    text = text.lower()\n",
        "    \n",
        "    #remove tags\n",
        "    text=re.sub(\"&lt;/?.*?&gt;\",\" &lt;&gt; \",text)\n",
        "    \n",
        "    # remove special characters and digits\n",
        "    text=re.sub(\"(\\\\d|\\\\W)+\",\" \",text)\n",
        "    \n",
        "    ##Convert to list from string\n",
        "    text = text.split()\n",
        "    \n",
        "    ##Stemming\n",
        "    ps=PorterStemmer()\n",
        "    #Lemmatisation\n",
        "    lem = WordNetLemmatizer()\n",
        "    text = [lem.lemmatize(word) for word in text if not word in  stop_words] \n",
        "    text = \" \".join(text)\n",
        "    corpus.append(text)"
      ],
      "id": "later-shaft",
      "execution_count": null,
      "outputs": [
        {
          "output_type": "stream",
          "name": "stdout",
          "text": [
            "56\n"
          ]
        }
      ]
    },
    {
      "cell_type": "code",
      "metadata": {
        "id": "modular-boutique",
        "colab": {
          "base_uri": "https://localhost:8080/"
        },
        "outputId": "fe55bcb6-540c-4290-c682-21b28e744ca7"
      },
      "source": [
        "#View corpus item\n",
        "corpus"
      ],
      "id": "modular-boutique",
      "execution_count": null,
      "outputs": [
        {
          "output_type": "execute_result",
          "data": {
            "text/plain": [
              "['skip content',\n",
              " '',\n",
              " 'menu',\n",
              " '',\n",
              " 'menu',\n",
              " 'tony lopez tiktok star fire allegation sending inappropriate picture',\n",
              " 'dish daily',\n",
              " '',\n",
              " 'july',\n",
              " 'tony lopez biography',\n",
              " 'american tiktok star also member lopez brother along brother ondreaz lopez',\n",
              " 'tonylopez tiktok page million follower',\n",
              " 'ondreaz run youtube channel lopez brother post challenge dance video',\n",
              " 'tony lopez tiktok star recently come fire sending explicit message girl aged year old',\n",
              " 'allegation coming le one year lopez made headline nude photo allegedly leaked fan twitter',\n",
              " 'tony lopez recent news',\n",
              " 'according tiktok shaderoom tony used snapchat instagram direct message communicate minor',\n",
              " 'guess never clicked head year old victim said commenting screenshots snapchat message allegedly sent hype house member',\n",
              " 'see kept saying knowing old',\n",
              " 'predator care',\n",
              " 'tony yet publicly addressed allegation',\n",
              " 'tweeted aug',\n",
              " 'lot thing talk added love support guy keep happy',\n",
              " 'controversy tony involved',\n",
              " 'tony lopez accused taking another tiktoker dance',\n",
              " 'according tiktok gen z seems one goal go viral tiktok',\n",
              " 'social medium star latest list celebrity',\n",
              " 'illegal content creator try steal material people',\n",
              " 'tony accused taking ouuitzjaidaa dance without crediting',\n",
              " 'accusation serious sending sexual message directly minor damaging tony credibility reputation content creator',\n",
              " 'jaida uploaded video june dancing nicki minaj rapper ix ine trollz competition',\n",
              " 'whoever view tiktok wire',\n",
              " 'second place rapper also announced third place winner would receive',\n",
              " 'jaida expressed desire donate prize money friend family recently lost member family',\n",
              " 'jaida called tony three day later posted clip dancing song',\n",
              " 'commented copiecing dance',\n",
              " 'people noticed similarity two dance video posted side side tiktok shaderoom',\n",
              " 'tony replied tweet since deleted platform imagine believing stole dance',\n",
              " 'despite fact internet squabble many commented issue said move',\n",
              " 'others criticized creator content creating drama',\n",
              " 'jaida care dancing want credit',\n",
              " 'totally get',\n",
              " 'category uncategorized',\n",
              " 'post navigation',\n",
              " 'reason keep jar vicks vaporub home',\n",
              " 'search',\n",
              " 'daily good news wp show post column wpsp margin left em wp show post column wpsp wp show post inner margin em em',\n",
              " '',\n",
              " 'reason keep jar vicks vaporub home',\n",
              " 'category',\n",
              " 'uncategorized',\n",
              " '',\n",
              " 'thanks visiting dish daily',\n",
              " 'close',\n",
              " 'var offside side right',\n",
              " 'var generatepressmenu toggleopenedsubmenus opensubmenulabel open sub menu closesubmenulabel close sub menu']"
            ]
          },
          "metadata": {},
          "execution_count": 14
        }
      ]
    },
    {
      "cell_type": "code",
      "metadata": {
        "id": "indirect-bridge",
        "colab": {
          "base_uri": "https://localhost:8080/",
          "height": 216
        },
        "outputId": "eceb7a49-5e9b-4387-ba11-7978d4f41299"
      },
      "source": [
        "#Word cloud\n",
        "from os import path\n",
        "from PIL import Image\n",
        "from wordcloud import WordCloud, STOPWORDS, ImageColorGenerator\n",
        "import matplotlib.pyplot as plt\n",
        "%matplotlib inline\n",
        "wordcloud = WordCloud(\n",
        "                          background_color='white',\n",
        "                          stopwords=stop_words,\n",
        "                          max_words=100,\n",
        "                          max_font_size=50, \n",
        "                          random_state=42\n",
        "                         ).generate(str(corpus))\n",
        "print(wordcloud)\n",
        "fig = plt.figure(1)\n",
        "plt.imshow(wordcloud)\n",
        "plt.axis('off')\n",
        "plt.show()"
      ],
      "id": "indirect-bridge",
      "execution_count": null,
      "outputs": [
        {
          "output_type": "stream",
          "name": "stdout",
          "text": [
            "<wordcloud.wordcloud.WordCloud object at 0x7f106e855ed0>\n"
          ]
        },
        {
          "output_type": "display_data",
          "data": {
            "image/png": "[encoded data removed]",
            "text/plain": [
              "<Figure size 432x288 with 1 Axes>"
            ]
          },
          "metadata": {
            "needs_background": "light"
          }
        }
      ]
    },
    {
      "cell_type": "code",
      "metadata": {
        "id": "atmospheric-burlington"
      },
      "source": [
        "from sklearn.feature_extraction.text import CountVectorizer\n",
        "import re\n",
        "cv=CountVectorizer(max_df=0.8,stop_words=stop_words, max_features=10000, ngram_range=(0,1))\n",
        "X=cv.fit_transform(corpus)"
      ],
      "id": "atmospheric-burlington",
      "execution_count": null,
      "outputs": []
    },
    {
      "cell_type": "code",
      "metadata": {
        "id": "lg4GJ7JohWRH"
      },
      "source": [
        "#from sklearn.feature_extraction.text import CountVectorizer\n",
        "#import re\n",
        "#cv=CountVectorizer(max_df=0.8,stop_words=stop_words, max_features=10000, ngram_range=(0,1))\n",
        "#X=cv.fit_transform(corpus)"
      ],
      "id": "lg4GJ7JohWRH",
      "execution_count": null,
      "outputs": []
    },
    {
      "cell_type": "code",
      "metadata": {
        "id": "appreciated-creator"
      },
      "source": [
        "a=list(cv.vocabulary_.keys())[:50]"
      ],
      "id": "appreciated-creator",
      "execution_count": null,
      "outputs": []
    },
    {
      "cell_type": "code",
      "metadata": {
        "colab": {
          "base_uri": "https://localhost:8080/",
          "height": 167
        },
        "id": "Oz_aLvdkhD4O",
        "outputId": "47ac1178-7c6e-4f5e-e9e2-f24cd8f69e3c"
      },
      "source": [
        "a"
      ],
      "id": "Oz_aLvdkhD4O",
      "execution_count": null,
      "outputs": [
        {
          "output_type": "error",
          "ename": "NameError",
          "evalue": "ignored",
          "traceback": [
            "\u001b[0;31m---------------------------------------------------------------------------\u001b[0m",
            "\u001b[0;31mNameError\u001b[0m                                 Traceback (most recent call last)",
            "\u001b[0;32m<ipython-input-1-ea2096ab178d>\u001b[0m in \u001b[0;36m<module>\u001b[0;34m()\u001b[0m\n\u001b[0;32m----> 1\u001b[0;31m \u001b[0mcv\u001b[0m\u001b[0;34m\u001b[0m\u001b[0;34m\u001b[0m\u001b[0m\n\u001b[0m",
            "\u001b[0;31mNameError\u001b[0m: name 'cv' is not defined"
          ]
        }
      ]
    },
    {
      "cell_type": "markdown",
      "metadata": {
        "id": "7RC3S3rMeoLf"
      },
      "source": [
        "3) Unigram Depiction of most frequently occuring words"
      ],
      "id": "7RC3S3rMeoLf"
    },
    {
      "cell_type": "code",
      "metadata": {
        "id": "duplicate-right",
        "colab": {
          "base_uri": "https://localhost:8080/",
          "height": 880
        },
        "outputId": "ee437732-e28b-4145-e7e5-51028bbf5a73"
      },
      "source": [
        "#Most frequently occuring words\n",
        "def get_top_n_words(corpus, n=None):\n",
        "    vec = CountVectorizer().fit(corpus)\n",
        "    bag_of_words = vec.transform(corpus)\n",
        "    sum_words = bag_of_words.sum(axis=0) \n",
        "    words_freq = [(word, sum_words[0, idx]) for word, idx in      \n",
        "                   vec.vocabulary_.items()]\n",
        "    words_freq =sorted(words_freq, key = lambda x: x[1], \n",
        "                       reverse=True)\n",
        "    return words_freq[:n]\n",
        "#Convert most freq words to dataframe for plotting bar plot\n",
        "top_words = get_top_n_words(corpus, n=20)\n",
        "top_df = pandas.DataFrame(top_words)\n",
        "top_df.columns=[\"Word\", \"Freq\"]\n",
        "#Barplot of most freq words\n",
        "import seaborn as sns\n",
        "sns.set(rc={'figure.figsize':(13,8)})\n",
        "g = sns.barplot(x=\"Word\", y=\"Freq\", data=top_df)\n",
        "g.set_xticklabels(g.get_xticklabels(), rotation=30)"
      ],
      "id": "duplicate-right",
      "execution_count": null,
      "outputs": [
        {
          "output_type": "execute_result",
          "data": {
            "text/plain": [
              "[Text(0, 0, 'tony'),\n",
              " Text(0, 0, 'lopez'),\n",
              " Text(0, 0, 'tiktok'),\n",
              " Text(0, 0, 'dance'),\n",
              " Text(0, 0, 'post'),\n",
              " Text(0, 0, 'content'),\n",
              " Text(0, 0, 'menu'),\n",
              " Text(0, 0, 'star'),\n",
              " Text(0, 0, 'message'),\n",
              " Text(0, 0, 'jaida'),\n",
              " Text(0, 0, 'allegation'),\n",
              " Text(0, 0, 'sending'),\n",
              " Text(0, 0, 'daily'),\n",
              " Text(0, 0, 'member'),\n",
              " Text(0, 0, 'brother'),\n",
              " Text(0, 0, 'video'),\n",
              " Text(0, 0, 'year'),\n",
              " Text(0, 0, 'old'),\n",
              " Text(0, 0, 'keep'),\n",
              " Text(0, 0, 'creator')]"
            ]
          },
          "metadata": {},
          "execution_count": 33
        },
        {
          "output_type": "display_data",
          "data": {
            "image/png": "[encoded data removed]",
            "text/plain": [
              "<Figure size 936x576 with 1 Axes>"
            ]
          },
          "metadata": {}
        }
      ]
    },
    {
      "cell_type": "markdown",
      "metadata": {
        "id": "QqItgu71e3IV"
      },
      "source": [
        "4) Depiction of most frequently occuring bigrams"
      ],
      "id": "QqItgu71e3IV"
    },
    {
      "cell_type": "code",
      "metadata": {
        "id": "regional-intersection",
        "colab": {
          "base_uri": "https://localhost:8080/",
          "height": 1000
        },
        "outputId": "095e421c-5330-4146-fb01-82edfa4d5779"
      },
      "source": [
        "#Most frequently occuring Bi-grams\n",
        "def get_top_n2_words(corpus, n=None):\n",
        "    vec1 = CountVectorizer(ngram_range=(2,2),  \n",
        "            max_features=2000).fit(corpus)\n",
        "    bag_of_words = vec1.transform(corpus)\n",
        "    sum_words = bag_of_words.sum(axis=0) \n",
        "    words_freq = [(word, sum_words[0, idx]) for word, idx in     \n",
        "                  vec1.vocabulary_.items()]\n",
        "    words_freq =sorted(words_freq, key = lambda x: x[1], \n",
        "                reverse=True)\n",
        "    return words_freq[:n]\n",
        "top2_words = get_top_n2_words(corpus, n=20)\n",
        "top2_df = pandas.DataFrame(top2_words)\n",
        "top2_df.columns=[\"Bi-gram\", \"Freq\"]\n",
        "print(top2_df)\n",
        "#Barplot of most freq Bi-grams\n",
        "import seaborn as sns\n",
        "sns.set(rc={'figure.figsize':(13,8)})\n",
        "h=sns.barplot(x=\"Bi-gram\", y=\"Freq\", data=top2_df)\n",
        "h.set_xticklabels(h.get_xticklabels(), rotation=45)"
      ],
      "id": "regional-intersection",
      "execution_count": null,
      "outputs": [
        {
          "output_type": "stream",
          "name": "stdout",
          "text": [
            "             Bi-gram  Freq\n",
            "0         tony lopez     5\n",
            "1        tiktok star     3\n",
            "2            wp show     3\n",
            "3          show post     3\n",
            "4       lopez tiktok     2\n",
            "5         dish daily     2\n",
            "6      lopez brother     2\n",
            "7        dance video     2\n",
            "8           year old     2\n",
            "9   according tiktok     2\n",
            "10  tiktok shaderoom     2\n",
            "11    accused taking     2\n",
            "12   content creator     2\n",
            "13       reason keep     2\n",
            "14          keep jar     2\n",
            "15         jar vicks     2\n",
            "16     vicks vaporub     2\n",
            "17      vaporub home     2\n",
            "18       post column     2\n",
            "19       column wpsp     2\n"
          ]
        },
        {
          "output_type": "execute_result",
          "data": {
            "text/plain": [
              "[Text(0, 0, 'tony lopez'),\n",
              " Text(0, 0, 'tiktok star'),\n",
              " Text(0, 0, 'wp show'),\n",
              " Text(0, 0, 'show post'),\n",
              " Text(0, 0, 'lopez tiktok'),\n",
              " Text(0, 0, 'dish daily'),\n",
              " Text(0, 0, 'lopez brother'),\n",
              " Text(0, 0, 'dance video'),\n",
              " Text(0, 0, 'year old'),\n",
              " Text(0, 0, 'according tiktok'),\n",
              " Text(0, 0, 'tiktok shaderoom'),\n",
              " Text(0, 0, 'accused taking'),\n",
              " Text(0, 0, 'content creator'),\n",
              " Text(0, 0, 'reason keep'),\n",
              " Text(0, 0, 'keep jar'),\n",
              " Text(0, 0, 'jar vicks'),\n",
              " Text(0, 0, 'vicks vaporub'),\n",
              " Text(0, 0, 'vaporub home'),\n",
              " Text(0, 0, 'post column'),\n",
              " Text(0, 0, 'column wpsp')]"
            ]
          },
          "metadata": {},
          "execution_count": 34
        },
        {
          "output_type": "display_data",
          "data": {
            "image/png": "[encoded data removed]",
            "text/plain": [
              "<Figure size 936x576 with 1 Axes>"
            ]
          },
          "metadata": {}
        }
      ]
    },
    {
      "cell_type": "markdown",
      "metadata": {
        "id": "uJnLgl80fC99"
      },
      "source": [
        "5) Depiction of most frequently occuring Tri-grams"
      ],
      "id": "uJnLgl80fC99"
    },
    {
      "cell_type": "code",
      "metadata": {
        "id": "inside-spring",
        "colab": {
          "base_uri": "https://localhost:8080/",
          "height": 1000
        },
        "outputId": "599d5610-4f54-4bcf-ba14-4d467de74677"
      },
      "source": [
        "#Most frequently occuring Tri-grams\n",
        "def get_top_n3_words(corpus, n=None):\n",
        "    vec1 = CountVectorizer(ngram_range=(3,3), \n",
        "           max_features=2000).fit(corpus)\n",
        "    bag_of_words = vec1.transform(corpus)\n",
        "    sum_words = bag_of_words.sum(axis=0) \n",
        "    words_freq = [(word, sum_words[0, idx]) for word, idx in     \n",
        "                  vec1.vocabulary_.items()]\n",
        "    words_freq =sorted(words_freq, key = lambda x: x[1], \n",
        "                reverse=True)\n",
        "    return words_freq[:n]\n",
        "top3_words = get_top_n3_words(corpus, n=20)\n",
        "top3_df = pandas.DataFrame(top3_words)\n",
        "top3_df.columns=[\"Tri-gram\", \"Freq\"]\n",
        "print(top3_df)\n",
        "#Barplot of most freq Tri-grams\n",
        "import seaborn as sns\n",
        "sns.set(rc={'figure.figsize':(13,8)})\n",
        "j=sns.barplot(x=\"Tri-gram\", y=\"Freq\", data=top3_df)\n",
        "j.set_xticklabels(j.get_xticklabels(), rotation=45)"
      ],
      "id": "inside-spring",
      "execution_count": null,
      "outputs": [
        {
          "output_type": "stream",
          "name": "stdout",
          "text": [
            "                            Tri-gram  Freq\n",
            "0                       wp show post     3\n",
            "1                  tony lopez tiktok     2\n",
            "2                  lopez tiktok star     2\n",
            "3                    reason keep jar     2\n",
            "4                     keep jar vicks     2\n",
            "5                  jar vicks vaporub     2\n",
            "6                 vicks vaporub home     2\n",
            "7                   show post column     2\n",
            "8                   post column wpsp     2\n",
            "9                   tiktok star fire     1\n",
            "10              star fire allegation     1\n",
            "11           fire allegation sending     1\n",
            "12  allegation sending inappropriate     1\n",
            "13     sending inappropriate picture     1\n",
            "14              tony lopez biography     1\n",
            "15              american tiktok star     1\n",
            "16                  tiktok star also     1\n",
            "17                  star also member     1\n",
            "18                 also member lopez     1\n",
            "19              member lopez brother     1\n"
          ]
        },
        {
          "output_type": "execute_result",
          "data": {
            "text/plain": [
              "[Text(0, 0, 'wp show post'),\n",
              " Text(0, 0, 'tony lopez tiktok'),\n",
              " Text(0, 0, 'lopez tiktok star'),\n",
              " Text(0, 0, 'reason keep jar'),\n",
              " Text(0, 0, 'keep jar vicks'),\n",
              " Text(0, 0, 'jar vicks vaporub'),\n",
              " Text(0, 0, 'vicks vaporub home'),\n",
              " Text(0, 0, 'show post column'),\n",
              " Text(0, 0, 'post column wpsp'),\n",
              " Text(0, 0, 'tiktok star fire'),\n",
              " Text(0, 0, 'star fire allegation'),\n",
              " Text(0, 0, 'fire allegation sending'),\n",
              " Text(0, 0, 'allegation sending inappropriate'),\n",
              " Text(0, 0, 'sending inappropriate picture'),\n",
              " Text(0, 0, 'tony lopez biography'),\n",
              " Text(0, 0, 'american tiktok star'),\n",
              " Text(0, 0, 'tiktok star also'),\n",
              " Text(0, 0, 'star also member'),\n",
              " Text(0, 0, 'also member lopez'),\n",
              " Text(0, 0, 'member lopez brother')]"
            ]
          },
          "metadata": {},
          "execution_count": 35
        },
        {
          "output_type": "display_data",
          "data": {
            "image/png": "[encoded data removed]",
            "text/plain": [
              "<Figure size 936x576 with 1 Axes>"
            ]
          },
          "metadata": {}
        }
      ]
    },
    {
      "cell_type": "markdown",
      "metadata": {
        "id": "jlEsjTEBfLkx"
      },
      "source": [
        "6) Application of Tf-Idf Keyword Extraction Algorithm"
      ],
      "id": "jlEsjTEBfLkx"
    },
    {
      "cell_type": "code",
      "metadata": {
        "id": "w_h9pKYqpeL1"
      },
      "source": [
        "from sklearn.feature_extraction.text import CountVectorizer\n",
        "from sklearn.feature_extraction.text import TfidfTransformer\n",
        "import numpy as np\n",
        "import pandas as pd"
      ],
      "id": "w_h9pKYqpeL1",
      "execution_count": null,
      "outputs": []
    },
    {
      "cell_type": "code",
      "metadata": {
        "id": "ZwCVmBh0pTNV"
      },
      "source": [
        "transformer = TfidfTransformer()\n",
        "transformed_weights = transformer.fit_transform(X)\n",
        "weights = np.asarray(transformed_weights.mean(axis=0)).ravel().tolist()\n",
        "weights_df = pd.DataFrame({'term': cv.get_feature_names(), 'weight': weights})"
      ],
      "id": "ZwCVmBh0pTNV",
      "execution_count": null,
      "outputs": []
    },
    {
      "cell_type": "code",
      "metadata": {
        "colab": {
          "base_uri": "https://localhost:8080/",
          "height": 1000
        },
        "id": "wRV-u7EbpsRK",
        "outputId": "a17ae805-dbfe-4a25-bc0b-a16f377828e4"
      },
      "source": [
        "sorted_df=weights_df.sort_values(by='weight', ascending=False).head(50)\n",
        "sorted_df"
      ],
      "id": "wRV-u7EbpsRK",
      "execution_count": null,
      "outputs": [
        {
          "output_type": "execute_result",
          "data": {
            "text/html": [
              "<div>\n",
              "<style scoped>\n",
              "    .dataframe tbody tr th:only-of-type {\n",
              "        vertical-align: middle;\n",
              "    }\n",
              "\n",
              "    .dataframe tbody tr th {\n",
              "        vertical-align: top;\n",
              "    }\n",
              "\n",
              "    .dataframe thead th {\n",
              "        text-align: right;\n",
              "    }\n",
              "</style>\n",
              "<table border=\"1\" class=\"dataframe\">\n",
              "  <thead>\n",
              "    <tr style=\"text-align: right;\">\n",
              "      <th></th>\n",
              "      <th>term</th>\n",
              "      <th>weight</th>\n",
              "    </tr>\n",
              "  </thead>\n",
              "  <tbody>\n",
              "    <tr>\n",
              "      <th>189</th>\n",
              "      <td>tony</td>\n",
              "      <td>0.055499</td>\n",
              "    </tr>\n",
              "    <tr>\n",
              "      <th>103</th>\n",
              "      <td>lopez</td>\n",
              "      <td>0.044477</td>\n",
              "    </tr>\n",
              "    <tr>\n",
              "      <th>113</th>\n",
              "      <td>menu</td>\n",
              "      <td>0.043894</td>\n",
              "    </tr>\n",
              "    <tr>\n",
              "      <th>186</th>\n",
              "      <td>tiktok</td>\n",
              "      <td>0.039572</td>\n",
              "    </tr>\n",
              "    <tr>\n",
              "      <th>45</th>\n",
              "      <td>dance</td>\n",
              "      <td>0.032224</td>\n",
              "    </tr>\n",
              "    <tr>\n",
              "      <th>19</th>\n",
              "      <td>category</td>\n",
              "      <td>0.030484</td>\n",
              "    </tr>\n",
              "    <tr>\n",
              "      <th>198</th>\n",
              "      <td>uncategorized</td>\n",
              "      <td>0.030484</td>\n",
              "    </tr>\n",
              "    <tr>\n",
              "      <th>34</th>\n",
              "      <td>content</td>\n",
              "      <td>0.027141</td>\n",
              "    </tr>\n",
              "    <tr>\n",
              "      <th>140</th>\n",
              "      <td>post</td>\n",
              "      <td>0.023177</td>\n",
              "    </tr>\n",
              "    <tr>\n",
              "      <th>25</th>\n",
              "      <td>close</td>\n",
              "      <td>0.022269</td>\n",
              "    </tr>\n",
              "    <tr>\n",
              "      <th>43</th>\n",
              "      <td>daily</td>\n",
              "      <td>0.022257</td>\n",
              "    </tr>\n",
              "    <tr>\n",
              "      <th>53</th>\n",
              "      <td>dish</td>\n",
              "      <td>0.021715</td>\n",
              "    </tr>\n",
              "    <tr>\n",
              "      <th>175</th>\n",
              "      <td>star</td>\n",
              "      <td>0.020466</td>\n",
              "    </tr>\n",
              "    <tr>\n",
              "      <th>18</th>\n",
              "      <td>care</td>\n",
              "      <td>0.019942</td>\n",
              "    </tr>\n",
              "    <tr>\n",
              "      <th>90</th>\n",
              "      <td>jaida</td>\n",
              "      <td>0.019923</td>\n",
              "    </tr>\n",
              "    <tr>\n",
              "      <th>94</th>\n",
              "      <td>keep</td>\n",
              "      <td>0.018766</td>\n",
              "    </tr>\n",
              "    <tr>\n",
              "      <th>167</th>\n",
              "      <td>side</td>\n",
              "      <td>0.018525</td>\n",
              "    </tr>\n",
              "    <tr>\n",
              "      <th>92</th>\n",
              "      <td>july</td>\n",
              "      <td>0.017857</td>\n",
              "    </tr>\n",
              "    <tr>\n",
              "      <th>157</th>\n",
              "      <td>search</td>\n",
              "      <td>0.017857</td>\n",
              "    </tr>\n",
              "    <tr>\n",
              "      <th>6</th>\n",
              "      <td>allegation</td>\n",
              "      <td>0.017834</td>\n",
              "    </tr>\n",
              "    <tr>\n",
              "      <th>38</th>\n",
              "      <td>creator</td>\n",
              "      <td>0.017121</td>\n",
              "    </tr>\n",
              "    <tr>\n",
              "      <th>114</th>\n",
              "      <td>message</td>\n",
              "      <td>0.017106</td>\n",
              "    </tr>\n",
              "    <tr>\n",
              "      <th>46</th>\n",
              "      <td>dancing</td>\n",
              "      <td>0.017079</td>\n",
              "    </tr>\n",
              "    <tr>\n",
              "      <th>30</th>\n",
              "      <td>commented</td>\n",
              "      <td>0.016117</td>\n",
              "    </tr>\n",
              "    <tr>\n",
              "      <th>16</th>\n",
              "      <td>brother</td>\n",
              "      <td>0.015768</td>\n",
              "    </tr>\n",
              "    <tr>\n",
              "      <th>127</th>\n",
              "      <td>old</td>\n",
              "      <td>0.015471</td>\n",
              "    </tr>\n",
              "    <tr>\n",
              "      <th>161</th>\n",
              "      <td>sending</td>\n",
              "      <td>0.015377</td>\n",
              "    </tr>\n",
              "    <tr>\n",
              "      <th>77</th>\n",
              "      <td>home</td>\n",
              "      <td>0.014754</td>\n",
              "    </tr>\n",
              "    <tr>\n",
              "      <th>201</th>\n",
              "      <td>vaporub</td>\n",
              "      <td>0.014754</td>\n",
              "    </tr>\n",
              "    <tr>\n",
              "      <th>91</th>\n",
              "      <td>jar</td>\n",
              "      <td>0.014754</td>\n",
              "    </tr>\n",
              "    <tr>\n",
              "      <th>203</th>\n",
              "      <td>vicks</td>\n",
              "      <td>0.014754</td>\n",
              "    </tr>\n",
              "    <tr>\n",
              "      <th>146</th>\n",
              "      <td>reason</td>\n",
              "      <td>0.014754</td>\n",
              "    </tr>\n",
              "    <tr>\n",
              "      <th>205</th>\n",
              "      <td>video</td>\n",
              "      <td>0.014521</td>\n",
              "    </tr>\n",
              "    <tr>\n",
              "      <th>2</th>\n",
              "      <td>accused</td>\n",
              "      <td>0.014232</td>\n",
              "    </tr>\n",
              "    <tr>\n",
              "      <th>180</th>\n",
              "      <td>taking</td>\n",
              "      <td>0.014232</td>\n",
              "    </tr>\n",
              "    <tr>\n",
              "      <th>170</th>\n",
              "      <td>skip</td>\n",
              "      <td>0.014017</td>\n",
              "    </tr>\n",
              "    <tr>\n",
              "      <th>120</th>\n",
              "      <td>navigation</td>\n",
              "      <td>0.013669</td>\n",
              "    </tr>\n",
              "    <tr>\n",
              "      <th>15</th>\n",
              "      <td>biography</td>\n",
              "      <td>0.013489</td>\n",
              "    </tr>\n",
              "    <tr>\n",
              "      <th>142</th>\n",
              "      <td>predator</td>\n",
              "      <td>0.013228</td>\n",
              "    </tr>\n",
              "    <tr>\n",
              "      <th>202</th>\n",
              "      <td>var</td>\n",
              "      <td>0.012894</td>\n",
              "    </tr>\n",
              "    <tr>\n",
              "      <th>217</th>\n",
              "      <td>year</td>\n",
              "      <td>0.012800</td>\n",
              "    </tr>\n",
              "    <tr>\n",
              "      <th>112</th>\n",
              "      <td>member</td>\n",
              "      <td>0.012643</td>\n",
              "    </tr>\n",
              "    <tr>\n",
              "      <th>67</th>\n",
              "      <td>get</td>\n",
              "      <td>0.012627</td>\n",
              "    </tr>\n",
              "    <tr>\n",
              "      <th>191</th>\n",
              "      <td>totally</td>\n",
              "      <td>0.012627</td>\n",
              "    </tr>\n",
              "    <tr>\n",
              "      <th>195</th>\n",
              "      <td>tweeted</td>\n",
              "      <td>0.012627</td>\n",
              "    </tr>\n",
              "    <tr>\n",
              "      <th>13</th>\n",
              "      <td>aug</td>\n",
              "      <td>0.012627</td>\n",
              "    </tr>\n",
              "    <tr>\n",
              "      <th>122</th>\n",
              "      <td>news</td>\n",
              "      <td>0.012384</td>\n",
              "    </tr>\n",
              "    <tr>\n",
              "      <th>35</th>\n",
              "      <td>controversy</td>\n",
              "      <td>0.011712</td>\n",
              "    </tr>\n",
              "    <tr>\n",
              "      <th>87</th>\n",
              "      <td>involved</td>\n",
              "      <td>0.011712</td>\n",
              "    </tr>\n",
              "    <tr>\n",
              "      <th>36</th>\n",
              "      <td>copiecing</td>\n",
              "      <td>0.011701</td>\n",
              "    </tr>\n",
              "  </tbody>\n",
              "</table>\n",
              "</div>"
            ],
            "text/plain": [
              "              term    weight\n",
              "189           tony  0.055499\n",
              "103          lopez  0.044477\n",
              "113           menu  0.043894\n",
              "186         tiktok  0.039572\n",
              "45           dance  0.032224\n",
              "19        category  0.030484\n",
              "198  uncategorized  0.030484\n",
              "34         content  0.027141\n",
              "140           post  0.023177\n",
              "25           close  0.022269\n",
              "43           daily  0.022257\n",
              "53            dish  0.021715\n",
              "175           star  0.020466\n",
              "18            care  0.019942\n",
              "90           jaida  0.019923\n",
              "94            keep  0.018766\n",
              "167           side  0.018525\n",
              "92            july  0.017857\n",
              "157         search  0.017857\n",
              "6       allegation  0.017834\n",
              "38         creator  0.017121\n",
              "114        message  0.017106\n",
              "46         dancing  0.017079\n",
              "30       commented  0.016117\n",
              "16         brother  0.015768\n",
              "127            old  0.015471\n",
              "161        sending  0.015377\n",
              "77            home  0.014754\n",
              "201        vaporub  0.014754\n",
              "91             jar  0.014754\n",
              "203          vicks  0.014754\n",
              "146         reason  0.014754\n",
              "205          video  0.014521\n",
              "2          accused  0.014232\n",
              "180         taking  0.014232\n",
              "170           skip  0.014017\n",
              "120     navigation  0.013669\n",
              "15       biography  0.013489\n",
              "142       predator  0.013228\n",
              "202            var  0.012894\n",
              "217           year  0.012800\n",
              "112         member  0.012643\n",
              "67             get  0.012627\n",
              "191        totally  0.012627\n",
              "195        tweeted  0.012627\n",
              "13             aug  0.012627\n",
              "122           news  0.012384\n",
              "35     controversy  0.011712\n",
              "87        involved  0.011712\n",
              "36       copiecing  0.011701"
            ]
          },
          "metadata": {},
          "execution_count": 39
        }
      ]
    },
    {
      "cell_type": "markdown",
      "metadata": {
        "id": "h-4mIJvtfavF"
      },
      "source": [
        "7) Display of top 10 keywords of the web page according to tf-idf algorithm."
      ],
      "id": "h-4mIJvtfavF"
    },
    {
      "cell_type": "code",
      "metadata": {
        "colab": {
          "base_uri": "https://localhost:8080/",
          "height": 357
        },
        "id": "dg-gMRxefpj2",
        "outputId": "9bac6b40-e6a6-43d1-e86e-561077d1ba89"
      },
      "source": [
        "top_10=sorted_df.head(10)\n",
        "top_10"
      ],
      "id": "dg-gMRxefpj2",
      "execution_count": null,
      "outputs": [
        {
          "output_type": "execute_result",
          "data": {
            "text/html": [
              "<div>\n",
              "<style scoped>\n",
              "    .dataframe tbody tr th:only-of-type {\n",
              "        vertical-align: middle;\n",
              "    }\n",
              "\n",
              "    .dataframe tbody tr th {\n",
              "        vertical-align: top;\n",
              "    }\n",
              "\n",
              "    .dataframe thead th {\n",
              "        text-align: right;\n",
              "    }\n",
              "</style>\n",
              "<table border=\"1\" class=\"dataframe\">\n",
              "  <thead>\n",
              "    <tr style=\"text-align: right;\">\n",
              "      <th></th>\n",
              "      <th>term</th>\n",
              "      <th>weight</th>\n",
              "    </tr>\n",
              "  </thead>\n",
              "  <tbody>\n",
              "    <tr>\n",
              "      <th>189</th>\n",
              "      <td>tony</td>\n",
              "      <td>0.055499</td>\n",
              "    </tr>\n",
              "    <tr>\n",
              "      <th>103</th>\n",
              "      <td>lopez</td>\n",
              "      <td>0.044477</td>\n",
              "    </tr>\n",
              "    <tr>\n",
              "      <th>113</th>\n",
              "      <td>menu</td>\n",
              "      <td>0.043894</td>\n",
              "    </tr>\n",
              "    <tr>\n",
              "      <th>186</th>\n",
              "      <td>tiktok</td>\n",
              "      <td>0.039572</td>\n",
              "    </tr>\n",
              "    <tr>\n",
              "      <th>45</th>\n",
              "      <td>dance</td>\n",
              "      <td>0.032224</td>\n",
              "    </tr>\n",
              "    <tr>\n",
              "      <th>19</th>\n",
              "      <td>category</td>\n",
              "      <td>0.030484</td>\n",
              "    </tr>\n",
              "    <tr>\n",
              "      <th>198</th>\n",
              "      <td>uncategorized</td>\n",
              "      <td>0.030484</td>\n",
              "    </tr>\n",
              "    <tr>\n",
              "      <th>34</th>\n",
              "      <td>content</td>\n",
              "      <td>0.027141</td>\n",
              "    </tr>\n",
              "    <tr>\n",
              "      <th>140</th>\n",
              "      <td>post</td>\n",
              "      <td>0.023177</td>\n",
              "    </tr>\n",
              "    <tr>\n",
              "      <th>25</th>\n",
              "      <td>close</td>\n",
              "      <td>0.022269</td>\n",
              "    </tr>\n",
              "  </tbody>\n",
              "</table>\n",
              "</div>"
            ],
            "text/plain": [
              "              term    weight\n",
              "189           tony  0.055499\n",
              "103          lopez  0.044477\n",
              "113           menu  0.043894\n",
              "186         tiktok  0.039572\n",
              "45           dance  0.032224\n",
              "19        category  0.030484\n",
              "198  uncategorized  0.030484\n",
              "34         content  0.027141\n",
              "140           post  0.023177\n",
              "25           close  0.022269"
            ]
          },
          "metadata": {},
          "execution_count": 40
        }
      ]
    },
    {
      "cell_type": "markdown",
      "metadata": {
        "id": "bjjW6gFFP9h1"
      },
      "source": [
        "8) Building of the Training list to judge the accuracy of extracted keywords"
      ],
      "id": "bjjW6gFFP9h1"
    },
    {
      "cell_type": "code",
      "metadata": {
        "colab": {
          "base_uri": "https://localhost:8080/"
        },
        "id": "KuvrziWtNkom",
        "outputId": "cc6583d3-31c0-4c14-8269-6eb7dd79a8c4"
      },
      "source": [
        "actual_list=[]\n",
        "for k in soup.find_all(\"title\"): \n",
        "    b=soup.title.text\n",
        "    actual_list.append(b)\n",
        "\n",
        "for k in soup.find_all(\"h2\"): \n",
        "    b=k.text\n",
        "    actual_list.append(b)\n",
        "\n",
        "train_data=[]\n",
        "for i in range(0,len(actual_list)):\n",
        "  train_data.append(actual_list[i].split())\n",
        "flat_list = [item for sublist in train_data for item in sublist]\n",
        "#print(flat_list)\n",
        "\n",
        "train_list=[]\n",
        "for i in flat_list:\n",
        "    if i not in train_list:\n",
        "        train_list.append(i)\n",
        "\n",
        "for i in range(0,len(train_list)):\n",
        "  train_list[i]=train_list[i].lower()\n",
        "print(train_list)"
      ],
      "id": "KuvrziWtNkom",
      "execution_count": null,
      "outputs": [
        {
          "output_type": "stream",
          "name": "stdout",
          "text": [
            "['tony', 'lopez', 'tiktok', 'star', 'under', 'fire', 'after', 'allegations', 'of', 'sending', 'inappropriate', 'pictures', '–', 'the', 'dish', 'daily', 'biography', 'recent', 'news', 'good', 'categories']\n"
          ]
        }
      ]
    },
    {
      "cell_type": "markdown",
      "metadata": {
        "id": "I9xzVGX1Guuq"
      },
      "source": [
        "9) Computation of Precision, Recall & F1- Measure values of the extracted keywords"
      ],
      "id": "I9xzVGX1Guuq"
    },
    {
      "cell_type": "code",
      "metadata": {
        "id": "o8coLIYHQFbc",
        "colab": {
          "base_uri": "https://localhost:8080/"
        },
        "outputId": "f6939c31-219d-4ddd-8ad3-8dace0240cf4"
      },
      "source": [
        "tp=0\n",
        "fp=0\n",
        "fn=0\n",
        "for i in sorted_df['term']:\n",
        "  if(i in train_list):\n",
        "    tp=tp+1\n",
        "  else:\n",
        "    fp=fp+1\n",
        "\n",
        "fn=len(train_list)-tp\n",
        "\n",
        "precision=0.0\n",
        "recall=0.0\n",
        "\n",
        "#Calculation of Precision value\n",
        "precision=tp/(tp+fn)\n",
        "\n",
        "#Calculation of Recall value\n",
        "recall=tp/(tp+fp)\n",
        "\n",
        "#Calculation of F1-Measure Value\n",
        "f1=2*(precision*recall/(precision + recall ))\n",
        "\n",
        "accuracy=()\n",
        "print(\"Precision: \",precision)\n",
        "print(\"Recall: \",recall)\n",
        "print(\"F1-measure: \",f1)"
      ],
      "id": "o8coLIYHQFbc",
      "execution_count": null,
      "outputs": [
        {
          "output_type": "stream",
          "name": "stdout",
          "text": [
            "Precision:  0.42857142857142855\n",
            "Recall:  0.18\n",
            "F1-measure:  0.2535211267605634\n"
          ]
        }
      ]
    }
  ]
}